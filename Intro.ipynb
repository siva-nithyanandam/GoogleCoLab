{
  "nbformat": 4,
  "nbformat_minor": 0,
  "metadata": {
    "colab": {
      "provenance": [],
      "authorship_tag": "ABX9TyPrwGX7EaHEPx2XnV9AxtvQ",
      "include_colab_link": true
    },
    "kernelspec": {
      "name": "python3",
      "display_name": "Python 3"
    },
    "language_info": {
      "name": "python"
    },
    "accelerator": "TPU"
  },
  "cells": [
    {
      "cell_type": "markdown",
      "metadata": {
        "id": "view-in-github",
        "colab_type": "text"
      },
      "source": [
        "<a href=\"https://colab.research.google.com/github/trysivaprakash/GoogleCoLab/blob/main/Intro.ipynb\" target=\"_parent\"><img src=\"https://colab.research.google.com/assets/colab-badge.svg\" alt=\"Open In Colab\"/></a>"
      ]
    },
    {
      "cell_type": "code",
      "source": [
        "!wget https://reqres.in/api/users.csv"
      ],
      "metadata": {
        "colab": {
          "base_uri": "https://localhost:8080/"
        },
        "id": "e3BZcBVo0WjQ",
        "outputId": "5db1798a-e830-4c49-aac6-59719b4a356d"
      },
      "execution_count": 2,
      "outputs": [
        {
          "output_type": "stream",
          "name": "stdout",
          "text": [
            "--2024-03-24 15:21:50--  https://reqres.in/api/users.csv\n",
            "Resolving reqres.in (reqres.in)... 172.67.73.173, 104.26.10.213, 104.26.11.213, ...\n",
            "Connecting to reqres.in (reqres.in)|172.67.73.173|:443... connected.\n",
            "HTTP request sent, awaiting response... 200 OK\n",
            "Length: 705 [application/json]\n",
            "Saving to: ‘users.csv’\n",
            "\n",
            "users.csv           100%[===================>]     705  --.-KB/s    in 0s      \n",
            "\n",
            "2024-03-24 15:21:50 (19.2 MB/s) - ‘users.csv’ saved [705/705]\n",
            "\n"
          ]
        }
      ]
    },
    {
      "cell_type": "code",
      "source": [
        "import pandas as pd\n",
        "\n",
        "pd.read_csv(\"MOCK_DATA.csv\").head()"
      ],
      "metadata": {
        "colab": {
          "base_uri": "https://localhost:8080/",
          "height": 384
        },
        "id": "kVLR7Ll3DNuc",
        "outputId": "ca4acf13-d629-4a64-f5d7-68de8de8f1b2"
      },
      "execution_count": 3,
      "outputs": [
        {
          "output_type": "error",
          "ename": "FileNotFoundError",
          "evalue": "[Errno 2] No such file or directory: 'MOCK_DATA.csv'",
          "traceback": [
            "\u001b[0;31m---------------------------------------------------------------------------\u001b[0m",
            "\u001b[0;31mFileNotFoundError\u001b[0m                         Traceback (most recent call last)",
            "\u001b[0;32m<ipython-input-3-797b1a13f178>\u001b[0m in \u001b[0;36m<cell line: 3>\u001b[0;34m()\u001b[0m\n\u001b[1;32m      1\u001b[0m \u001b[0;32mimport\u001b[0m \u001b[0mpandas\u001b[0m \u001b[0;32mas\u001b[0m \u001b[0mpd\u001b[0m\u001b[0;34m\u001b[0m\u001b[0;34m\u001b[0m\u001b[0m\n\u001b[1;32m      2\u001b[0m \u001b[0;34m\u001b[0m\u001b[0m\n\u001b[0;32m----> 3\u001b[0;31m \u001b[0mpd\u001b[0m\u001b[0;34m.\u001b[0m\u001b[0mread_csv\u001b[0m\u001b[0;34m(\u001b[0m\u001b[0;34m\"MOCK_DATA.csv\"\u001b[0m\u001b[0;34m)\u001b[0m\u001b[0;34m.\u001b[0m\u001b[0mhead\u001b[0m\u001b[0;34m(\u001b[0m\u001b[0;34m)\u001b[0m\u001b[0;34m\u001b[0m\u001b[0;34m\u001b[0m\u001b[0m\n\u001b[0m",
            "\u001b[0;32m/usr/local/lib/python3.10/dist-packages/pandas/util/_decorators.py\u001b[0m in \u001b[0;36mwrapper\u001b[0;34m(*args, **kwargs)\u001b[0m\n\u001b[1;32m    209\u001b[0m                 \u001b[0;32melse\u001b[0m\u001b[0;34m:\u001b[0m\u001b[0;34m\u001b[0m\u001b[0;34m\u001b[0m\u001b[0m\n\u001b[1;32m    210\u001b[0m                     \u001b[0mkwargs\u001b[0m\u001b[0;34m[\u001b[0m\u001b[0mnew_arg_name\u001b[0m\u001b[0;34m]\u001b[0m \u001b[0;34m=\u001b[0m \u001b[0mnew_arg_value\u001b[0m\u001b[0;34m\u001b[0m\u001b[0;34m\u001b[0m\u001b[0m\n\u001b[0;32m--> 211\u001b[0;31m             \u001b[0;32mreturn\u001b[0m \u001b[0mfunc\u001b[0m\u001b[0;34m(\u001b[0m\u001b[0;34m*\u001b[0m\u001b[0margs\u001b[0m\u001b[0;34m,\u001b[0m \u001b[0;34m**\u001b[0m\u001b[0mkwargs\u001b[0m\u001b[0;34m)\u001b[0m\u001b[0;34m\u001b[0m\u001b[0;34m\u001b[0m\u001b[0m\n\u001b[0m\u001b[1;32m    212\u001b[0m \u001b[0;34m\u001b[0m\u001b[0m\n\u001b[1;32m    213\u001b[0m         \u001b[0;32mreturn\u001b[0m \u001b[0mcast\u001b[0m\u001b[0;34m(\u001b[0m\u001b[0mF\u001b[0m\u001b[0;34m,\u001b[0m \u001b[0mwrapper\u001b[0m\u001b[0;34m)\u001b[0m\u001b[0;34m\u001b[0m\u001b[0;34m\u001b[0m\u001b[0m\n",
            "\u001b[0;32m/usr/local/lib/python3.10/dist-packages/pandas/util/_decorators.py\u001b[0m in \u001b[0;36mwrapper\u001b[0;34m(*args, **kwargs)\u001b[0m\n\u001b[1;32m    329\u001b[0m                     \u001b[0mstacklevel\u001b[0m\u001b[0;34m=\u001b[0m\u001b[0mfind_stack_level\u001b[0m\u001b[0;34m(\u001b[0m\u001b[0;34m)\u001b[0m\u001b[0;34m,\u001b[0m\u001b[0;34m\u001b[0m\u001b[0;34m\u001b[0m\u001b[0m\n\u001b[1;32m    330\u001b[0m                 )\n\u001b[0;32m--> 331\u001b[0;31m             \u001b[0;32mreturn\u001b[0m \u001b[0mfunc\u001b[0m\u001b[0;34m(\u001b[0m\u001b[0;34m*\u001b[0m\u001b[0margs\u001b[0m\u001b[0;34m,\u001b[0m \u001b[0;34m**\u001b[0m\u001b[0mkwargs\u001b[0m\u001b[0;34m)\u001b[0m\u001b[0;34m\u001b[0m\u001b[0;34m\u001b[0m\u001b[0m\n\u001b[0m\u001b[1;32m    332\u001b[0m \u001b[0;34m\u001b[0m\u001b[0m\n\u001b[1;32m    333\u001b[0m         \u001b[0;31m# error: \"Callable[[VarArg(Any), KwArg(Any)], Any]\" has no\u001b[0m\u001b[0;34m\u001b[0m\u001b[0;34m\u001b[0m\u001b[0m\n",
            "\u001b[0;32m/usr/local/lib/python3.10/dist-packages/pandas/io/parsers/readers.py\u001b[0m in \u001b[0;36mread_csv\u001b[0;34m(filepath_or_buffer, sep, delimiter, header, names, index_col, usecols, squeeze, prefix, mangle_dupe_cols, dtype, engine, converters, true_values, false_values, skipinitialspace, skiprows, skipfooter, nrows, na_values, keep_default_na, na_filter, verbose, skip_blank_lines, parse_dates, infer_datetime_format, keep_date_col, date_parser, dayfirst, cache_dates, iterator, chunksize, compression, thousands, decimal, lineterminator, quotechar, quoting, doublequote, escapechar, comment, encoding, encoding_errors, dialect, error_bad_lines, warn_bad_lines, on_bad_lines, delim_whitespace, low_memory, memory_map, float_precision, storage_options)\u001b[0m\n\u001b[1;32m    948\u001b[0m     \u001b[0mkwds\u001b[0m\u001b[0;34m.\u001b[0m\u001b[0mupdate\u001b[0m\u001b[0;34m(\u001b[0m\u001b[0mkwds_defaults\u001b[0m\u001b[0;34m)\u001b[0m\u001b[0;34m\u001b[0m\u001b[0;34m\u001b[0m\u001b[0m\n\u001b[1;32m    949\u001b[0m \u001b[0;34m\u001b[0m\u001b[0m\n\u001b[0;32m--> 950\u001b[0;31m     \u001b[0;32mreturn\u001b[0m \u001b[0m_read\u001b[0m\u001b[0;34m(\u001b[0m\u001b[0mfilepath_or_buffer\u001b[0m\u001b[0;34m,\u001b[0m \u001b[0mkwds\u001b[0m\u001b[0;34m)\u001b[0m\u001b[0;34m\u001b[0m\u001b[0;34m\u001b[0m\u001b[0m\n\u001b[0m\u001b[1;32m    951\u001b[0m \u001b[0;34m\u001b[0m\u001b[0m\n\u001b[1;32m    952\u001b[0m \u001b[0;34m\u001b[0m\u001b[0m\n",
            "\u001b[0;32m/usr/local/lib/python3.10/dist-packages/pandas/io/parsers/readers.py\u001b[0m in \u001b[0;36m_read\u001b[0;34m(filepath_or_buffer, kwds)\u001b[0m\n\u001b[1;32m    603\u001b[0m \u001b[0;34m\u001b[0m\u001b[0m\n\u001b[1;32m    604\u001b[0m     \u001b[0;31m# Create the parser.\u001b[0m\u001b[0;34m\u001b[0m\u001b[0;34m\u001b[0m\u001b[0m\n\u001b[0;32m--> 605\u001b[0;31m     \u001b[0mparser\u001b[0m \u001b[0;34m=\u001b[0m \u001b[0mTextFileReader\u001b[0m\u001b[0;34m(\u001b[0m\u001b[0mfilepath_or_buffer\u001b[0m\u001b[0;34m,\u001b[0m \u001b[0;34m**\u001b[0m\u001b[0mkwds\u001b[0m\u001b[0;34m)\u001b[0m\u001b[0;34m\u001b[0m\u001b[0;34m\u001b[0m\u001b[0m\n\u001b[0m\u001b[1;32m    606\u001b[0m \u001b[0;34m\u001b[0m\u001b[0m\n\u001b[1;32m    607\u001b[0m     \u001b[0;32mif\u001b[0m \u001b[0mchunksize\u001b[0m \u001b[0;32mor\u001b[0m \u001b[0miterator\u001b[0m\u001b[0;34m:\u001b[0m\u001b[0;34m\u001b[0m\u001b[0;34m\u001b[0m\u001b[0m\n",
            "\u001b[0;32m/usr/local/lib/python3.10/dist-packages/pandas/io/parsers/readers.py\u001b[0m in \u001b[0;36m__init__\u001b[0;34m(self, f, engine, **kwds)\u001b[0m\n\u001b[1;32m   1440\u001b[0m \u001b[0;34m\u001b[0m\u001b[0m\n\u001b[1;32m   1441\u001b[0m         \u001b[0mself\u001b[0m\u001b[0;34m.\u001b[0m\u001b[0mhandles\u001b[0m\u001b[0;34m:\u001b[0m \u001b[0mIOHandles\u001b[0m \u001b[0;34m|\u001b[0m \u001b[0;32mNone\u001b[0m \u001b[0;34m=\u001b[0m \u001b[0;32mNone\u001b[0m\u001b[0;34m\u001b[0m\u001b[0;34m\u001b[0m\u001b[0m\n\u001b[0;32m-> 1442\u001b[0;31m         \u001b[0mself\u001b[0m\u001b[0;34m.\u001b[0m\u001b[0m_engine\u001b[0m \u001b[0;34m=\u001b[0m \u001b[0mself\u001b[0m\u001b[0;34m.\u001b[0m\u001b[0m_make_engine\u001b[0m\u001b[0;34m(\u001b[0m\u001b[0mf\u001b[0m\u001b[0;34m,\u001b[0m \u001b[0mself\u001b[0m\u001b[0;34m.\u001b[0m\u001b[0mengine\u001b[0m\u001b[0;34m)\u001b[0m\u001b[0;34m\u001b[0m\u001b[0;34m\u001b[0m\u001b[0m\n\u001b[0m\u001b[1;32m   1443\u001b[0m \u001b[0;34m\u001b[0m\u001b[0m\n\u001b[1;32m   1444\u001b[0m     \u001b[0;32mdef\u001b[0m \u001b[0mclose\u001b[0m\u001b[0;34m(\u001b[0m\u001b[0mself\u001b[0m\u001b[0;34m)\u001b[0m \u001b[0;34m->\u001b[0m \u001b[0;32mNone\u001b[0m\u001b[0;34m:\u001b[0m\u001b[0;34m\u001b[0m\u001b[0;34m\u001b[0m\u001b[0m\n",
            "\u001b[0;32m/usr/local/lib/python3.10/dist-packages/pandas/io/parsers/readers.py\u001b[0m in \u001b[0;36m_make_engine\u001b[0;34m(self, f, engine)\u001b[0m\n\u001b[1;32m   1733\u001b[0m                 \u001b[0;32mif\u001b[0m \u001b[0;34m\"b\"\u001b[0m \u001b[0;32mnot\u001b[0m \u001b[0;32min\u001b[0m \u001b[0mmode\u001b[0m\u001b[0;34m:\u001b[0m\u001b[0;34m\u001b[0m\u001b[0;34m\u001b[0m\u001b[0m\n\u001b[1;32m   1734\u001b[0m                     \u001b[0mmode\u001b[0m \u001b[0;34m+=\u001b[0m \u001b[0;34m\"b\"\u001b[0m\u001b[0;34m\u001b[0m\u001b[0;34m\u001b[0m\u001b[0m\n\u001b[0;32m-> 1735\u001b[0;31m             self.handles = get_handle(\n\u001b[0m\u001b[1;32m   1736\u001b[0m                 \u001b[0mf\u001b[0m\u001b[0;34m,\u001b[0m\u001b[0;34m\u001b[0m\u001b[0;34m\u001b[0m\u001b[0m\n\u001b[1;32m   1737\u001b[0m                 \u001b[0mmode\u001b[0m\u001b[0;34m,\u001b[0m\u001b[0;34m\u001b[0m\u001b[0;34m\u001b[0m\u001b[0m\n",
            "\u001b[0;32m/usr/local/lib/python3.10/dist-packages/pandas/io/common.py\u001b[0m in \u001b[0;36mget_handle\u001b[0;34m(path_or_buf, mode, encoding, compression, memory_map, is_text, errors, storage_options)\u001b[0m\n\u001b[1;32m    854\u001b[0m         \u001b[0;32mif\u001b[0m \u001b[0mioargs\u001b[0m\u001b[0;34m.\u001b[0m\u001b[0mencoding\u001b[0m \u001b[0;32mand\u001b[0m \u001b[0;34m\"b\"\u001b[0m \u001b[0;32mnot\u001b[0m \u001b[0;32min\u001b[0m \u001b[0mioargs\u001b[0m\u001b[0;34m.\u001b[0m\u001b[0mmode\u001b[0m\u001b[0;34m:\u001b[0m\u001b[0;34m\u001b[0m\u001b[0;34m\u001b[0m\u001b[0m\n\u001b[1;32m    855\u001b[0m             \u001b[0;31m# Encoding\u001b[0m\u001b[0;34m\u001b[0m\u001b[0;34m\u001b[0m\u001b[0m\n\u001b[0;32m--> 856\u001b[0;31m             handle = open(\n\u001b[0m\u001b[1;32m    857\u001b[0m                 \u001b[0mhandle\u001b[0m\u001b[0;34m,\u001b[0m\u001b[0;34m\u001b[0m\u001b[0;34m\u001b[0m\u001b[0m\n\u001b[1;32m    858\u001b[0m                 \u001b[0mioargs\u001b[0m\u001b[0;34m.\u001b[0m\u001b[0mmode\u001b[0m\u001b[0;34m,\u001b[0m\u001b[0;34m\u001b[0m\u001b[0;34m\u001b[0m\u001b[0m\n",
            "\u001b[0;31mFileNotFoundError\u001b[0m: [Errno 2] No such file or directory: 'MOCK_DATA.csv'"
          ]
        }
      ]
    },
    {
      "cell_type": "markdown",
      "source": [
        "${x^2}+5$"
      ],
      "metadata": {
        "id": "Jpy3RkokDe-D"
      }
    },
    {
      "cell_type": "markdown",
      "source": [
        "Hello"
      ],
      "metadata": {
        "id": "nONKfeBVEKII"
      }
    },
    {
      "cell_type": "markdown",
      "source": [
        "$$ x1 = \\frac{-b + \\sqrt{b2-4ac}}{4ac} $$"
      ],
      "metadata": {
        "id": "AcGbD5WJEUmE"
      }
    },
    {
      "cell_type": "code",
      "source": [
        "!ls"
      ],
      "metadata": {
        "colab": {
          "base_uri": "https://localhost:8080/"
        },
        "id": "C5dfBvJwGRNt",
        "outputId": "de6a223c-7528-4da7-93e4-64ff66b0ee4a"
      },
      "execution_count": 6,
      "outputs": [
        {
          "output_type": "stream",
          "name": "stdout",
          "text": [
            "sample_data  users.csv\n"
          ]
        }
      ]
    },
    {
      "cell_type": "code",
      "source": [
        "!pwd"
      ],
      "metadata": {
        "colab": {
          "base_uri": "https://localhost:8080/"
        },
        "id": "cDO-I-JlGUim",
        "outputId": "273ddc43-c605-4d83-ff4d-f8264bcdcc85"
      },
      "execution_count": 7,
      "outputs": [
        {
          "output_type": "stream",
          "name": "stdout",
          "text": [
            "/content\n"
          ]
        }
      ]
    },
    {
      "cell_type": "code",
      "source": [
        "!date"
      ],
      "metadata": {
        "colab": {
          "base_uri": "https://localhost:8080/"
        },
        "id": "0Lk3S8z5GZAD",
        "outputId": "e1f0f516-6ce6-4714-e964-912308e8ce47"
      },
      "execution_count": 8,
      "outputs": [
        {
          "output_type": "stream",
          "name": "stdout",
          "text": [
            "Sun Mar 24 03:35:04 PM UTC 2024\n"
          ]
        }
      ]
    },
    {
      "cell_type": "code",
      "source": [
        "!git clone https://github.com/trysivaprakash/GoogleCoLab/"
      ],
      "metadata": {
        "colab": {
          "base_uri": "https://localhost:8080/"
        },
        "id": "8R1cUX_-GdNS",
        "outputId": "e79259e6-c285-4025-b4d9-17dae4b97633"
      },
      "execution_count": 9,
      "outputs": [
        {
          "output_type": "stream",
          "name": "stdout",
          "text": [
            "Cloning into 'GoogleCoLab'...\n",
            "remote: Enumerating objects: 6, done.\u001b[K\n",
            "remote: Counting objects: 100% (6/6), done.\u001b[K\n",
            "remote: Compressing objects: 100% (4/4), done.\u001b[K\n",
            "remote: Total 6 (delta 0), reused 0 (delta 0), pack-reused 0\u001b[K\n",
            "Receiving objects: 100% (6/6), done.\n"
          ]
        }
      ]
    },
    {
      "cell_type": "code",
      "source": [
        "%lsmagic"
      ],
      "metadata": {
        "colab": {
          "base_uri": "https://localhost:8080/",
          "height": 374
        },
        "id": "63ZrTCCUIQqg",
        "outputId": "80dcbfa5-b3d6-4008-f2f7-b559cdb7eda9"
      },
      "execution_count": 10,
      "outputs": [
        {
          "output_type": "execute_result",
          "data": {
            "text/plain": [
              "Available line magics:\n",
              "%alias  %alias_magic  %autoawait  %autocall  %automagic  %autosave  %bookmark  %cat  %cd  %clear  %colors  %conda  %config  %connect_info  %cp  %debug  %dhist  %dirs  %doctest_mode  %ed  %edit  %env  %gui  %hist  %history  %killbgscripts  %ldir  %less  %lf  %lk  %ll  %load  %load_ext  %loadpy  %logoff  %logon  %logstart  %logstate  %logstop  %ls  %lsmagic  %lx  %macro  %magic  %man  %matplotlib  %mkdir  %more  %mv  %notebook  %page  %pastebin  %pdb  %pdef  %pdoc  %pfile  %pinfo  %pinfo2  %pip  %popd  %pprint  %precision  %prun  %psearch  %psource  %pushd  %pwd  %pycat  %pylab  %qtconsole  %quickref  %recall  %rehashx  %reload_ext  %rep  %rerun  %reset  %reset_selective  %rm  %rmdir  %run  %save  %sc  %set_env  %shell  %store  %sx  %system  %tb  %tensorflow_version  %time  %timeit  %unalias  %unload_ext  %who  %who_ls  %whos  %xdel  %xmode\n",
              "\n",
              "Available cell magics:\n",
              "%%!  %%HTML  %%SVG  %%bash  %%bigquery  %%capture  %%debug  %%file  %%html  %%javascript  %%js  %%latex  %%markdown  %%perl  %%prun  %%pypy  %%python  %%python2  %%python3  %%ruby  %%script  %%sh  %%shell  %%svg  %%sx  %%system  %%time  %%timeit  %%writefile\n",
              "\n",
              "Automagic is ON, % prefix IS NOT needed for line magics."
            ],
            "application/json": {
              "line": {
                "automagic": "AutoMagics",
                "autocall": "AutoMagics",
                "alias_magic": "BasicMagics",
                "lsmagic": "BasicMagics",
                "magic": "BasicMagics",
                "page": "BasicMagics",
                "pprint": "BasicMagics",
                "colors": "BasicMagics",
                "xmode": "BasicMagics",
                "quickref": "BasicMagics",
                "doctest_mode": "BasicMagics",
                "gui": "BasicMagics",
                "precision": "BasicMagics",
                "notebook": "BasicMagics",
                "save": "CodeMagics",
                "pastebin": "CodeMagics",
                "loadpy": "CodeMagics",
                "load": "CodeMagics",
                "edit": "KernelMagics",
                "config": "ConfigMagics",
                "prun": "ExecutionMagics",
                "pdb": "ExecutionMagics",
                "debug": "ExecutionMagics",
                "tb": "ExecutionMagics",
                "run": "ExecutionMagics",
                "timeit": "ExecutionMagics",
                "time": "ExecutionMagics",
                "macro": "ExecutionMagics",
                "load_ext": "ExtensionMagics",
                "unload_ext": "ExtensionMagics",
                "reload_ext": "ExtensionMagics",
                "history": "HistoryMagics",
                "recall": "HistoryMagics",
                "rerun": "HistoryMagics",
                "logstart": "LoggingMagics",
                "logstop": "LoggingMagics",
                "logoff": "LoggingMagics",
                "logon": "LoggingMagics",
                "logstate": "LoggingMagics",
                "pinfo": "NamespaceMagics",
                "pinfo2": "NamespaceMagics",
                "pdef": "NamespaceMagics",
                "pdoc": "NamespaceMagics",
                "psource": "NamespaceMagics",
                "pfile": "NamespaceMagics",
                "psearch": "NamespaceMagics",
                "who_ls": "NamespaceMagics",
                "who": "NamespaceMagics",
                "whos": "NamespaceMagics",
                "reset": "NamespaceMagics",
                "reset_selective": "NamespaceMagics",
                "xdel": "NamespaceMagics",
                "alias": "OSMagics",
                "unalias": "OSMagics",
                "rehashx": "OSMagics",
                "pwd": "OSMagics",
                "cd": "OSMagics",
                "env": "OSMagics",
                "set_env": "OSMagics",
                "pushd": "OSMagics",
                "popd": "OSMagics",
                "dirs": "OSMagics",
                "dhist": "OSMagics",
                "sc": "OSMagics",
                "sx": "OSMagics",
                "system": "OSMagics",
                "bookmark": "OSMagics",
                "pycat": "OSMagics",
                "pip": "Other",
                "conda": "PackagingMagics",
                "matplotlib": "PylabMagics",
                "pylab": "PylabMagics",
                "killbgscripts": "ScriptMagics",
                "autoawait": "AsyncMagics",
                "ed": "Other",
                "hist": "Other",
                "rep": "Other",
                "clear": "KernelMagics",
                "less": "KernelMagics",
                "more": "KernelMagics",
                "man": "KernelMagics",
                "connect_info": "KernelMagics",
                "qtconsole": "KernelMagics",
                "autosave": "KernelMagics",
                "mkdir": "Other",
                "rmdir": "Other",
                "mv": "Other",
                "rm": "Other",
                "cp": "Other",
                "cat": "Other",
                "ls": "Other",
                "ll": "Other",
                "lf": "Other",
                "lk": "Other",
                "ldir": "Other",
                "lx": "Other",
                "store": "StoreMagics",
                "shell": "Other",
                "tensorflow_version": "Other"
              },
              "cell": {
                "js": "DisplayMagics",
                "javascript": "DisplayMagics",
                "latex": "DisplayMagics",
                "svg": "DisplayMagics",
                "html": "DisplayMagics",
                "markdown": "DisplayMagics",
                "prun": "ExecutionMagics",
                "debug": "ExecutionMagics",
                "timeit": "ExecutionMagics",
                "time": "ExecutionMagics",
                "capture": "ExecutionMagics",
                "sx": "OSMagics",
                "system": "OSMagics",
                "!": "OSMagics",
                "writefile": "OSMagics",
                "script": "ScriptMagics",
                "sh": "Other",
                "bash": "Other",
                "perl": "Other",
                "ruby": "Other",
                "python": "Other",
                "python2": "Other",
                "python3": "Other",
                "pypy": "Other",
                "SVG": "Other",
                "HTML": "Other",
                "file": "Other",
                "bigquery": "Other",
                "shell": "Other"
              }
            }
          },
          "metadata": {},
          "execution_count": 10
        }
      ]
    },
    {
      "cell_type": "code",
      "source": [
        "%pwd"
      ],
      "metadata": {
        "colab": {
          "base_uri": "https://localhost:8080/",
          "height": 35
        },
        "id": "RoiBK9nWKPgp",
        "outputId": "1a6e8636-d2c7-4b3b-b8e7-5e4251820b93"
      },
      "execution_count": 11,
      "outputs": [
        {
          "output_type": "execute_result",
          "data": {
            "text/plain": [
              "'/content'"
            ],
            "application/vnd.google.colaboratory.intrinsic+json": {
              "type": "string"
            }
          },
          "metadata": {},
          "execution_count": 11
        }
      ]
    },
    {
      "cell_type": "code",
      "source": [
        "%history"
      ],
      "metadata": {
        "colab": {
          "base_uri": "https://localhost:8080/"
        },
        "id": "yLig5cJSKTUI",
        "outputId": "5a8445c1-dcdf-4ce6-a56a-281c7f8f90d5"
      },
      "execution_count": 12,
      "outputs": [
        {
          "output_type": "stream",
          "name": "stdout",
          "text": [
            "import pandas as pd\n",
            "\n",
            "pd.read_csv(\"MOCK_DATA.csv\").head()\n",
            "!wget https://reqres.in/api/users.csv\n",
            "import pandas as pd\n",
            "\n",
            "pd.read_csv(\"MOCK_DATA.csv\").head()\n",
            "Hello\n",
            "!ls \\bin\n",
            "!ls\n",
            "!pwd\n",
            "!date\n",
            "!git clone https://github.com/trysivaprakash/GoogleCoLab/\n",
            "%lsmagic\n",
            "%pwd\n",
            "%history\n"
          ]
        }
      ]
    },
    {
      "cell_type": "code",
      "source": [
        "%tensorflow_version"
      ],
      "metadata": {
        "colab": {
          "base_uri": "https://localhost:8080/"
        },
        "id": "JCZgFmjYKWK7",
        "outputId": "12cda5ec-f552-4ee5-b28b-bc941c580f44"
      },
      "execution_count": 13,
      "outputs": [
        {
          "output_type": "stream",
          "name": "stdout",
          "text": [
            "Colab only includes TensorFlow 2.x; %tensorflow_version has no effect.\n"
          ]
        }
      ]
    },
    {
      "cell_type": "code",
      "source": [
        "import tensorflow as tf\n",
        "print(tf.__version__)"
      ],
      "metadata": {
        "colab": {
          "base_uri": "https://localhost:8080/"
        },
        "id": "2B75n8SnKrpe",
        "outputId": "2b784e1c-d785-4220-83cc-9118c68a155d"
      },
      "execution_count": 16,
      "outputs": [
        {
          "output_type": "stream",
          "name": "stdout",
          "text": [
            "2.15.0\n"
          ]
        }
      ]
    },
    {
      "cell_type": "code",
      "source": [
        "%set_env?"
      ],
      "metadata": {
        "id": "hG2QzibGKx80"
      },
      "execution_count": 21,
      "outputs": []
    },
    {
      "cell_type": "code",
      "source": [
        "%who?"
      ],
      "metadata": {
        "id": "PAUasQnXK94L"
      },
      "execution_count": 19,
      "outputs": []
    },
    {
      "cell_type": "code",
      "source": [
        "%set_env sample_env=test_pwd"
      ],
      "metadata": {
        "colab": {
          "base_uri": "https://localhost:8080/"
        },
        "id": "-ls5egIzQyDL",
        "outputId": "c3fd1c43-8602-40d8-e714-50d97f6031bd"
      },
      "execution_count": 30,
      "outputs": [
        {
          "output_type": "stream",
          "name": "stdout",
          "text": [
            "env: sample_env=test_pwd\n"
          ]
        }
      ]
    },
    {
      "cell_type": "code",
      "source": [
        "x = %env sample_env\n",
        "print(x)"
      ],
      "metadata": {
        "colab": {
          "base_uri": "https://localhost:8080/"
        },
        "id": "Iu1gZxowRRSH",
        "outputId": "39f964ba-360b-42ca-f197-3329c107a345"
      },
      "execution_count": 31,
      "outputs": [
        {
          "output_type": "stream",
          "name": "stdout",
          "text": [
            "test_pwd\n"
          ]
        }
      ]
    },
    {
      "cell_type": "code",
      "source": [
        "%%html\n",
        "<h1>Hello Google CoLab</h1>\n",
        "<img src='data:image/jpeg;base64,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'>"
      ],
      "metadata": {
        "colab": {
          "base_uri": "https://localhost:8080/",
          "height": 232
        },
        "id": "2REpdrrrSEEv",
        "outputId": "11e82bac-4e7d-42c7-aa7d-05ae88e0131f"
      },
      "execution_count": 33,
      "outputs": [
        {
          "output_type": "display_data",
          "data": {
            "text/plain": [
              "<IPython.core.display.HTML object>"
            ],
            "text/html": [
              "<h1>Hello Google CoLab</h1>\n",
              "<img src='data:image/jpeg;base64,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'>\n"
            ]
          },
          "metadata": {}
        }
      ]
    },
    {
      "cell_type": "code",
      "source": [
        "%%javascript\n",
        "console.log('Hello Google CoLab')"
      ],
      "metadata": {
        "colab": {
          "base_uri": "https://localhost:8080/",
          "height": 17
        },
        "id": "fDN8TudCS21d",
        "outputId": "b777fe31-8576-4ab7-c70f-9993f789de8f"
      },
      "execution_count": 37,
      "outputs": [
        {
          "output_type": "display_data",
          "data": {
            "text/plain": [
              "<IPython.core.display.Javascript object>"
            ],
            "application/javascript": [
              "console.log('Hello Google CoLab')\n"
            ]
          },
          "metadata": {}
        }
      ]
    },
    {
      "cell_type": "code",
      "source": [
        "%%writefile test.py\n",
        "print(\"Hello from CoLab\")\n",
        "a = 2\n",
        "print(a)"
      ],
      "metadata": {
        "colab": {
          "base_uri": "https://localhost:8080/"
        },
        "id": "WDhS7h-ATha5",
        "outputId": "9c46e91a-e213-4e97-87d1-1e914c14d8d5"
      },
      "execution_count": 39,
      "outputs": [
        {
          "output_type": "stream",
          "name": "stdout",
          "text": [
            "Overwriting test.py\n"
          ]
        }
      ]
    },
    {
      "cell_type": "code",
      "source": [
        "!python3 /content/test.py"
      ],
      "metadata": {
        "colab": {
          "base_uri": "https://localhost:8080/"
        },
        "id": "Cl-6gAcxYUrN",
        "outputId": "de412550-50cb-431a-9c1a-ee58c242d9db"
      },
      "execution_count": 40,
      "outputs": [
        {
          "output_type": "stream",
          "name": "stdout",
          "text": [
            "Hello from CoLab\n",
            "2\n"
          ]
        }
      ]
    },
    {
      "cell_type": "code",
      "source": [
        "from color import *"
      ],
      "metadata": {
        "colab": {
          "base_uri": "https://localhost:8080/",
          "height": 378
        },
        "id": "RAAxkQw9Yvbu",
        "outputId": "5b775979-cecb-450d-890a-de2a6a67ecca"
      },
      "execution_count": 2,
      "outputs": [
        {
          "output_type": "error",
          "ename": "ModuleNotFoundError",
          "evalue": "No module named 'color'",
          "traceback": [
            "\u001b[0;31m---------------------------------------------------------------------------\u001b[0m",
            "\u001b[0;31mModuleNotFoundError\u001b[0m                       Traceback (most recent call last)",
            "\u001b[0;32m<ipython-input-2-9050dfc36770>\u001b[0m in \u001b[0;36m<cell line: 1>\u001b[0;34m()\u001b[0m\n\u001b[0;32m----> 1\u001b[0;31m \u001b[0;32mfrom\u001b[0m \u001b[0mcolor\u001b[0m \u001b[0;32mimport\u001b[0m \u001b[0;34m*\u001b[0m\u001b[0;34m\u001b[0m\u001b[0;34m\u001b[0m\u001b[0m\n\u001b[0m",
            "\u001b[0;31mModuleNotFoundError\u001b[0m: No module named 'color'",
            "",
            "\u001b[0;31m---------------------------------------------------------------------------\u001b[0;32m\nNOTE: If your import is failing due to a missing package, you can\nmanually install dependencies using either !pip or !apt.\n\nTo view examples of installing some common dependencies, click the\n\"Open Examples\" button below.\n\u001b[0;31m---------------------------------------------------------------------------\u001b[0m\n"
          ],
          "errorDetails": {
            "actions": [
              {
                "action": "open_url",
                "actionText": "Open Examples",
                "url": "/notebooks/snippets/importing_libraries.ipynb"
              }
            ]
          }
        }
      ]
    },
    {
      "cell_type": "code",
      "source": [
        "!pip install color==0.1.1"
      ],
      "metadata": {
        "colab": {
          "base_uri": "https://localhost:8080/"
        },
        "id": "2BK9mbZ_aIj4",
        "outputId": "fc6da31c-2caf-4d62-9861-09e00aeb288c"
      },
      "execution_count": 43,
      "outputs": [
        {
          "output_type": "stream",
          "name": "stdout",
          "text": [
            "Collecting color==0.1.1\n",
            "  Using cached color-0.1.1.tar.gz (3.6 kB)\n",
            "  Preparing metadata (setup.py) ... \u001b[?25l\u001b[?25hdone\n",
            "\u001b[33m  WARNING: Requested color==0.1.1 from https://files.pythonhosted.org/packages/88/04/0defd6f424e5bafb5abc75510cbe119a85d80b5505f1de5cd9a16d89ba8c/color-0.1.1.tar.gz, but installing version 0.1\u001b[0m\u001b[33m\n",
            "\u001b[0mDiscarding \u001b[4;34mhttps://files.pythonhosted.org/packages/88/04/0defd6f424e5bafb5abc75510cbe119a85d80b5505f1de5cd9a16d89ba8c/color-0.1.1.tar.gz (from https://pypi.org/simple/color/)\u001b[0m: \u001b[33mRequested color==0.1.1 from https://files.pythonhosted.org/packages/88/04/0defd6f424e5bafb5abc75510cbe119a85d80b5505f1de5cd9a16d89ba8c/color-0.1.1.tar.gz has inconsistent version: expected '0.1.1', but metadata has '0.1'\u001b[0m\n",
            "\u001b[31mERROR: Could not find a version that satisfies the requirement color==0.1.1 (from versions: 0.1.1)\u001b[0m\u001b[31m\n",
            "\u001b[0m\u001b[31mERROR: No matching distribution found for color==0.1.1\u001b[0m\u001b[31m\n",
            "\u001b[0m"
          ]
        }
      ]
    },
    {
      "cell_type": "code",
      "source": [
        "!pip install --upgrade pip\n",
        "!pip install --upgrade setuptools"
      ],
      "metadata": {
        "colab": {
          "base_uri": "https://localhost:8080/",
          "height": 541
        },
        "id": "ht1GFo-zaM9g",
        "outputId": "54cf403e-99b9-4076-a141-e7d09ada859d"
      },
      "execution_count": 44,
      "outputs": [
        {
          "output_type": "stream",
          "name": "stdout",
          "text": [
            "Requirement already satisfied: pip in /usr/local/lib/python3.10/dist-packages (23.1.2)\n",
            "Collecting pip\n",
            "  Downloading pip-24.0-py3-none-any.whl (2.1 MB)\n",
            "\u001b[2K     \u001b[90m━━━━━━━━━━━━━━━━━━━━━━━━━━━━━━━━━━━━━━━━\u001b[0m \u001b[32m2.1/2.1 MB\u001b[0m \u001b[31m7.9 MB/s\u001b[0m eta \u001b[36m0:00:00\u001b[0m\n",
            "\u001b[?25hInstalling collected packages: pip\n",
            "  Attempting uninstall: pip\n",
            "    Found existing installation: pip 23.1.2\n",
            "    Uninstalling pip-23.1.2:\n",
            "      Successfully uninstalled pip-23.1.2\n",
            "Successfully installed pip-24.0\n",
            "Requirement already satisfied: setuptools in /usr/local/lib/python3.10/dist-packages (67.7.2)\n",
            "Collecting setuptools\n",
            "  Downloading setuptools-69.2.0-py3-none-any.whl.metadata (6.3 kB)\n",
            "Downloading setuptools-69.2.0-py3-none-any.whl (821 kB)\n",
            "\u001b[2K   \u001b[90m━━━━━━━━━━━━━━━━━━━━━━━━━━━━━━━━━━━━━━━━\u001b[0m \u001b[32m821.5/821.5 kB\u001b[0m \u001b[31m6.2 MB/s\u001b[0m eta \u001b[36m0:00:00\u001b[0m\n",
            "\u001b[?25hInstalling collected packages: setuptools\n",
            "  Attempting uninstall: setuptools\n",
            "    Found existing installation: setuptools 67.7.2\n",
            "    Uninstalling setuptools-67.7.2:\n",
            "      Successfully uninstalled setuptools-67.7.2\n",
            "\u001b[31mERROR: pip's dependency resolver does not currently take into account all the packages that are installed. This behaviour is the source of the following dependency conflicts.\n",
            "ipython 7.34.0 requires jedi>=0.16, which is not installed.\u001b[0m\u001b[31m\n",
            "\u001b[0mSuccessfully installed setuptools-69.2.0\n",
            "\u001b[33mWARNING: Running pip as the 'root' user can result in broken permissions and conflicting behaviour with the system package manager. It is recommended to use a virtual environment instead: https://pip.pypa.io/warnings/venv\u001b[0m\u001b[33m\n",
            "\u001b[0m"
          ]
        },
        {
          "output_type": "display_data",
          "data": {
            "application/vnd.colab-display-data+json": {
              "pip_warning": {
                "packages": [
                  "_distutils_hack",
                  "pkg_resources",
                  "setuptools"
                ]
              },
              "id": "a0399ddb0e94484d8d1255633760cfb4"
            }
          },
          "metadata": {}
        }
      ]
    },
    {
      "cell_type": "code",
      "source": [
        "!pip install color"
      ],
      "metadata": {
        "colab": {
          "base_uri": "https://localhost:8080/"
        },
        "id": "4JOh4f4Ufi00",
        "outputId": "def00235-e796-4efb-ce9b-fc0726e61092"
      },
      "execution_count": 1,
      "outputs": [
        {
          "output_type": "stream",
          "name": "stdout",
          "text": [
            "Collecting color\n",
            "  Downloading color-0.1.1.tar.gz (3.6 kB)\n",
            "  Preparing metadata (setup.py) ... \u001b[?25l\u001b[?25hdone\n",
            "Discarding \u001b[4;34mhttps://files.pythonhosted.org/packages/88/04/0defd6f424e5bafb5abc75510cbe119a85d80b5505f1de5cd9a16d89ba8c/color-0.1.1.tar.gz (from https://pypi.org/simple/color/)\u001b[0m: \u001b[33mRequested color from https://files.pythonhosted.org/packages/88/04/0defd6f424e5bafb5abc75510cbe119a85d80b5505f1de5cd9a16d89ba8c/color-0.1.1.tar.gz has inconsistent version: expected '0.1.1', but metadata has '0.1'\u001b[0m\n",
            "\u001b[31mERROR: Could not find a version that satisfies the requirement color (from versions: 0.1.1)\u001b[0m\u001b[31m\n",
            "\u001b[0m\u001b[31mERROR: No matching distribution found for color\u001b[0m\u001b[31m\n",
            "\u001b[0m"
          ]
        }
      ]
    },
    {
      "cell_type": "code",
      "source": [
        "print(tr('foo bar baz', 'o', FgColor.Red))"
      ],
      "metadata": {
        "colab": {
          "base_uri": "https://localhost:8080/",
          "height": 173
        },
        "id": "KCpSUA-ufusp",
        "outputId": "9664edcd-f86f-4f0c-c9c6-e08dd6f1f1b2"
      },
      "execution_count": 3,
      "outputs": [
        {
          "output_type": "error",
          "ename": "NameError",
          "evalue": "name 'tr' is not defined",
          "traceback": [
            "\u001b[0;31m---------------------------------------------------------------------------\u001b[0m",
            "\u001b[0;31mNameError\u001b[0m                                 Traceback (most recent call last)",
            "\u001b[0;32m<ipython-input-3-a106d3e11e2a>\u001b[0m in \u001b[0;36m<cell line: 1>\u001b[0;34m()\u001b[0m\n\u001b[0;32m----> 1\u001b[0;31m \u001b[0mprint\u001b[0m\u001b[0;34m(\u001b[0m\u001b[0mtr\u001b[0m\u001b[0;34m(\u001b[0m\u001b[0;34m'foo bar baz'\u001b[0m\u001b[0;34m,\u001b[0m \u001b[0;34m'o'\u001b[0m\u001b[0;34m,\u001b[0m \u001b[0mFgColor\u001b[0m\u001b[0;34m.\u001b[0m\u001b[0mRed\u001b[0m\u001b[0;34m)\u001b[0m\u001b[0;34m)\u001b[0m\u001b[0;34m\u001b[0m\u001b[0;34m\u001b[0m\u001b[0m\n\u001b[0m",
            "\u001b[0;31mNameError\u001b[0m: name 'tr' is not defined"
          ]
        }
      ]
    },
    {
      "cell_type": "code",
      "source": [
        "import tensorflow as tf\n",
        "tf.test.gpu_device_name()"
      ],
      "metadata": {
        "colab": {
          "base_uri": "https://localhost:8080/",
          "height": 35
        },
        "id": "JKXPq3whg17j",
        "outputId": "791ecfda-8783-4174-c496-79cac78ac3dd"
      },
      "execution_count": 1,
      "outputs": [
        {
          "output_type": "execute_result",
          "data": {
            "text/plain": [
              "''"
            ],
            "application/vnd.google.colaboratory.intrinsic+json": {
              "type": "string"
            }
          },
          "metadata": {},
          "execution_count": 1
        }
      ]
    },
    {
      "cell_type": "code",
      "source": [],
      "metadata": {
        "id": "5BJdrxc5iVL0"
      },
      "execution_count": null,
      "outputs": []
    }
  ]
}